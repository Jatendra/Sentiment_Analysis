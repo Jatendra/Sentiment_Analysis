{
 "cells": [
  {
   "cell_type": "code",
   "execution_count": 1,
   "metadata": {},
   "outputs": [
    {
     "name": "stdout",
     "output_type": "stream",
     "text": [
      "[nltk_data] Downloading package wordnet to\n",
      "[nltk_data]     C:\\Users\\hp\\AppData\\Roaming\\nltk_data...\n",
      "[nltk_data]   Package wordnet is already up-to-date!\n"
     ]
    }
   ],
   "source": [
    "import warnings\n",
    "warnings.filterwarnings(\"ignore\")\n",
    "import pandas as pd \n",
    "import json\n",
    "import datetime\n",
    "from dateutil.relativedelta import relativedelta\n",
    "import gensim\n",
    "from gensim import corpora, models\n",
    "from gensim.models import Phrases\n",
    "import numpy as np\n",
    "import matplotlib.pyplot as plt\n",
    "import random\n",
    "import nltk\n",
    "nltk.download('wordnet')\n",
    "from nltk import FreqDist\n",
    "from stop_words import get_stop_words\n",
    "from nltk.stem.wordnet import WordNetLemmatizer\n",
    "from nltk.tokenize import RegexpTokenizer\n",
    "from collections import defaultdict\n",
    "from sklearn.model_selection import train_test_split\n",
    "from sklearn.linear_model import SGDClassifier\n",
    "from sklearn.metrics import accuracy_score,roc_curve,auc"
   ]
  },
  {
   "cell_type": "markdown",
   "metadata": {},
   "source": [
    "# Import Data"
   ]
  },
  {
   "cell_type": "code",
   "execution_count": 2,
   "metadata": {},
   "outputs": [],
   "source": [
    "with open(\"C:/Users/hp/Downloads/jupyter_notebook/aclImdb/train-pos.txt\",'r') as infile:\n",
    "    positive=infile.readlines()"
   ]
  },
  {
   "cell_type": "code",
   "execution_count": 3,
   "metadata": {
    "collapsed": true
   },
   "outputs": [],
   "source": [
    "pos_review=[doc.decode(\"utf8\") for doc in positive]"
   ]
  },
  {
   "cell_type": "code",
   "execution_count": 4,
   "metadata": {},
   "outputs": [],
   "source": [
    "with open(\"C:/Users/hp/Downloads/jupyter_notebook/aclImdb/train-neg.txt\",'r') as infile:\n",
    "    negative=infile.readlines()"
   ]
  },
  {
   "cell_type": "code",
   "execution_count": 5,
   "metadata": {
    "collapsed": true
   },
   "outputs": [],
   "source": [
    "neg_review=[doc.decode(\"utf8\") for doc in negative]"
   ]
  },
  {
   "cell_type": "code",
   "execution_count": 6,
   "metadata": {},
   "outputs": [
    {
     "name": "stdout",
     "output_type": "stream",
     "text": [
      "12500\n",
      "12500\n"
     ]
    }
   ],
   "source": [
    "print(len(pos_review))\n",
    "print(len(neg_review))"
   ]
  },
  {
   "cell_type": "markdown",
   "metadata": {},
   "source": [
    "Lets review data"
   ]
  },
  {
   "cell_type": "code",
   "execution_count": 7,
   "metadata": {},
   "outputs": [
    {
     "data": {
      "text/plain": [
       "u'bromwell high is a cartoon comedy .  it ran at the same time as some other programs about school life ,  such as  \" teachers \"  .  my 35 years in the teaching profession lead me to believe that bromwell high\\'s satire is much closer to reality than is  \" teachers \"  .  the scramble to survive financially ,  the insightful students who can see right through their pathetic teachers\\' pomp ,  the pettiness of the whole situation ,  all remind me of the schools i knew and their students .  when i saw the episode in which a student repeatedly tried to burn down the school ,  i immediately recalled  .  .  .  .  .  .  .  .  .  at  .  .  .  .  .  .  .  .  .  .  high .  a classic line :  inspector :  i\\'m here to sack one of your teachers .  student :  welcome to bromwell high .  i expect that many adults of my age think that bromwell high is far fetched .  what a pity that it isn\\'t ! \\n'"
      ]
     },
     "execution_count": 7,
     "metadata": {},
     "output_type": "execute_result"
    }
   ],
   "source": [
    "pos_review[0]"
   ]
  },
  {
   "cell_type": "code",
   "execution_count": 8,
   "metadata": {},
   "outputs": [
    {
     "data": {
      "text/plain": [
       "u\"story of a man who has unnatural feelings for a pig .  starts out with a opening scene that is a terrific example of absurd comedy .  a formal orchestra audience is turned into an insane ,  violent mob by the crazy chantings of it's singers .  unfortunately it stays absurd the whole time with no general narrative eventually making it just too off putting .  even those from the era should be turned off .  the cryptic dialogue would make shakespeare seem easy to a third grader .  on a technical level it's better than you might think with some good cinematography by future great vilmos zsigmond .  future stars sally kirkland and frederic forrest can be seen briefly . \\n\""
      ]
     },
     "execution_count": 8,
     "metadata": {},
     "output_type": "execute_result"
    }
   ],
   "source": [
    "neg_review[0]"
   ]
  },
  {
   "cell_type": "code",
   "execution_count": 9,
   "metadata": {
    "collapsed": true
   },
   "outputs": [],
   "source": [
    "total_reviews=pos_review+neg_review"
   ]
  },
  {
   "cell_type": "code",
   "execution_count": 10,
   "metadata": {
    "collapsed": true
   },
   "outputs": [],
   "source": [
    "punctuation = \".,?!:;(){}[]\"\n",
    "for c in punctuation:\n",
    "    total_reviews = [z.replace(c, ' %s '%c) for z in total_reviews]    "
   ]
  },
  {
   "cell_type": "code",
   "execution_count": 11,
   "metadata": {},
   "outputs": [
    {
     "data": {
      "text/plain": [
       "u'bromwell high is a cartoon comedy  .   it ran at the same time as some other programs about school life  ,   such as  \" teachers \"   .   my 35 years in the teaching profession lead me to believe that bromwell high\\'s satire is much closer to reality than is  \" teachers \"   .   the scramble to survive financially  ,   the insightful students who can see right through their pathetic teachers\\' pomp  ,   the pettiness of the whole situation  ,   all remind me of the schools i knew and their students  .   when i saw the episode in which a student repeatedly tried to burn down the school  ,   i immediately recalled   .    .    .    .    .    .    .    .    .   at   .    .    .    .    .    .    .    .    .    .   high  .   a classic line  :   inspector  :   i\\'m here to sack one of your teachers  .   student  :   welcome to bromwell high  .   i expect that many adults of my age think that bromwell high is far fetched  .   what a pity that it isn\\'t  !  \\n'"
      ]
     },
     "execution_count": 11,
     "metadata": {},
     "output_type": "execute_result"
    }
   ],
   "source": [
    "total_reviews[0]"
   ]
  },
  {
   "cell_type": "code",
   "execution_count": 12,
   "metadata": {},
   "outputs": [
    {
     "data": {
      "text/plain": [
       "[[u'bromwell',\n",
       "  u'high',\n",
       "  u'is',\n",
       "  u'a',\n",
       "  u'cartoon',\n",
       "  u'comedy',\n",
       "  u'.',\n",
       "  u'it',\n",
       "  u'ran',\n",
       "  u'at',\n",
       "  u'the',\n",
       "  u'same',\n",
       "  u'time',\n",
       "  u'as',\n",
       "  u'some',\n",
       "  u'other',\n",
       "  u'programs',\n",
       "  u'about',\n",
       "  u'school',\n",
       "  u'life',\n",
       "  u',',\n",
       "  u'such',\n",
       "  u'as',\n",
       "  u'\"',\n",
       "  u'teachers',\n",
       "  u'\"',\n",
       "  u'.',\n",
       "  u'my',\n",
       "  u'35',\n",
       "  u'years',\n",
       "  u'in',\n",
       "  u'the',\n",
       "  u'teaching',\n",
       "  u'profession',\n",
       "  u'lead',\n",
       "  u'me',\n",
       "  u'to',\n",
       "  u'believe',\n",
       "  u'that',\n",
       "  u'bromwell',\n",
       "  u\"high's\",\n",
       "  u'satire',\n",
       "  u'is',\n",
       "  u'much',\n",
       "  u'closer',\n",
       "  u'to',\n",
       "  u'reality',\n",
       "  u'than',\n",
       "  u'is',\n",
       "  u'\"',\n",
       "  u'teachers',\n",
       "  u'\"',\n",
       "  u'.',\n",
       "  u'the',\n",
       "  u'scramble',\n",
       "  u'to',\n",
       "  u'survive',\n",
       "  u'financially',\n",
       "  u',',\n",
       "  u'the',\n",
       "  u'insightful',\n",
       "  u'students',\n",
       "  u'who',\n",
       "  u'can',\n",
       "  u'see',\n",
       "  u'right',\n",
       "  u'through',\n",
       "  u'their',\n",
       "  u'pathetic',\n",
       "  u\"teachers'\",\n",
       "  u'pomp',\n",
       "  u',',\n",
       "  u'the',\n",
       "  u'pettiness',\n",
       "  u'of',\n",
       "  u'the',\n",
       "  u'whole',\n",
       "  u'situation',\n",
       "  u',',\n",
       "  u'all',\n",
       "  u'remind',\n",
       "  u'me',\n",
       "  u'of',\n",
       "  u'the',\n",
       "  u'schools',\n",
       "  u'i',\n",
       "  u'knew',\n",
       "  u'and',\n",
       "  u'their',\n",
       "  u'students',\n",
       "  u'.',\n",
       "  u'when',\n",
       "  u'i',\n",
       "  u'saw',\n",
       "  u'the',\n",
       "  u'episode',\n",
       "  u'in',\n",
       "  u'which',\n",
       "  u'a',\n",
       "  u'student',\n",
       "  u'repeatedly',\n",
       "  u'tried',\n",
       "  u'to',\n",
       "  u'burn',\n",
       "  u'down',\n",
       "  u'the',\n",
       "  u'school',\n",
       "  u',',\n",
       "  u'i',\n",
       "  u'immediately',\n",
       "  u'recalled',\n",
       "  u'.',\n",
       "  u'.',\n",
       "  u'.',\n",
       "  u'.',\n",
       "  u'.',\n",
       "  u'.',\n",
       "  u'.',\n",
       "  u'.',\n",
       "  u'.',\n",
       "  u'at',\n",
       "  u'.',\n",
       "  u'.',\n",
       "  u'.',\n",
       "  u'.',\n",
       "  u'.',\n",
       "  u'.',\n",
       "  u'.',\n",
       "  u'.',\n",
       "  u'.',\n",
       "  u'.',\n",
       "  u'high',\n",
       "  u'.',\n",
       "  u'a',\n",
       "  u'classic',\n",
       "  u'line',\n",
       "  u':',\n",
       "  u'inspector',\n",
       "  u':',\n",
       "  u\"i'm\",\n",
       "  u'here',\n",
       "  u'to',\n",
       "  u'sack',\n",
       "  u'one',\n",
       "  u'of',\n",
       "  u'your',\n",
       "  u'teachers',\n",
       "  u'.',\n",
       "  u'student',\n",
       "  u':',\n",
       "  u'welcome',\n",
       "  u'to',\n",
       "  u'bromwell',\n",
       "  u'high',\n",
       "  u'.',\n",
       "  u'i',\n",
       "  u'expect',\n",
       "  u'that',\n",
       "  u'many',\n",
       "  u'adults',\n",
       "  u'of',\n",
       "  u'my',\n",
       "  u'age',\n",
       "  u'think',\n",
       "  u'that',\n",
       "  u'bromwell',\n",
       "  u'high',\n",
       "  u'is',\n",
       "  u'far',\n",
       "  u'fetched',\n",
       "  u'.',\n",
       "  u'what',\n",
       "  u'a',\n",
       "  u'pity',\n",
       "  u'that',\n",
       "  u'it',\n",
       "  u\"isn't\",\n",
       "  u'!']]"
      ]
     },
     "execution_count": 12,
     "metadata": {},
     "output_type": "execute_result"
    }
   ],
   "source": [
    "word_token=[doc.lower().replace('\\n','').replace('<br />','').strip().split() for doc in total_reviews]\n",
    "word_token[:1]"
   ]
  },
  {
   "cell_type": "code",
   "execution_count": 13,
   "metadata": {},
   "outputs": [
    {
     "data": {
      "text/plain": [
       "25000"
      ]
     },
     "execution_count": 13,
     "metadata": {},
     "output_type": "execute_result"
    }
   ],
   "source": [
    "len(word_token)"
   ]
  },
  {
   "cell_type": "code",
   "execution_count": 14,
   "metadata": {
    "collapsed": true
   },
   "outputs": [],
   "source": [
    "en_stop= get_stop_words(language='en')\n",
    "custom_stop=['.',',',':','(',')','{','}','[',']']\n",
    "en_stop=en_stop+custom_stop+['can','will','shall']"
   ]
  },
  {
   "cell_type": "code",
   "execution_count": 15,
   "metadata": {
    "collapsed": true
   },
   "outputs": [],
   "source": [
    "stopped_tokens=[[token for token in doc if not token in en_stop and not token.isdigit()]for doc in word_token]"
   ]
  },
  {
   "cell_type": "code",
   "execution_count": 16,
   "metadata": {
    "collapsed": true
   },
   "outputs": [],
   "source": [
    "wnl = WordNetLemmatizer()\n",
    "texts= [[wnl.lemmatize(token) for token in doc]for doc in stopped_tokens]"
   ]
  },
  {
   "cell_type": "code",
   "execution_count": 17,
   "metadata": {},
   "outputs": [
    {
     "data": {
      "text/plain": [
       "[u'bromwell',\n",
       " u'high',\n",
       " u'cartoon',\n",
       " u'comedy',\n",
       " u'ran',\n",
       " u'time',\n",
       " u'program',\n",
       " u'school',\n",
       " u'life',\n",
       " u'\"',\n",
       " u'teacher',\n",
       " u'\"',\n",
       " u'year',\n",
       " u'teaching',\n",
       " u'profession',\n",
       " u'lead',\n",
       " u'believe',\n",
       " u'bromwell',\n",
       " u\"high's\",\n",
       " u'satire']"
      ]
     },
     "execution_count": 17,
     "metadata": {},
     "output_type": "execute_result"
    }
   ],
   "source": [
    "texts[0][0:20]"
   ]
  },
  {
   "cell_type": "code",
   "execution_count": 18,
   "metadata": {
    "collapsed": true
   },
   "outputs": [],
   "source": [
    "bigram = Phrases(texts, min_count=10,threshold=4)\n",
    "trigram = Phrases(bigram[texts],min_count=10,threshold=4)\n",
    "texts_1=list(trigram[bigram[texts]])"
   ]
  },
  {
   "cell_type": "code",
   "execution_count": 19,
   "metadata": {
    "collapsed": true
   },
   "outputs": [],
   "source": [
    "tf_matrix = defaultdict(int)\n",
    "\n",
    "## token count in corpus\n",
    "for text in texts_1:\n",
    "     for token in text:\n",
    "         tf_matrix[token] += 1"
   ]
  },
  {
   "cell_type": "code",
   "execution_count": 20,
   "metadata": {},
   "outputs": [
    {
     "data": {
      "image/png": "[encoded data removed]",
      "text/plain": [
       "<matplotlib.figure.Figure at 0x67859320>"
      ]
     },
     "metadata": {},
     "output_type": "display_data"
    }
   ],
   "source": [
    "tf_matrix_1=pd.DataFrame(list(tf_matrix.items()), columns=['token', 'count_nos'])\n",
    "min_freq_plot=tf_matrix_1.count_nos.value_counts().sort_values(ascending=False)\n",
    "min_freq_plot=min_freq_plot[0:int(.05*min_freq_plot.shape[0])]\n",
    "plt.subplots(figsize=(30,4))\n",
    "min_freq_plot.plot.bar()\n",
    "plt.show()"
   ]
  },
  {
   "cell_type": "code",
   "execution_count": 21,
   "metadata": {},
   "outputs": [
    {
     "data": {
      "text/plain": [
       "1     53921\n",
       "2     12330\n",
       "3      6492\n",
       "4      4136\n",
       "5      2974\n",
       "6      2317\n",
       "7      1865\n",
       "11     1540\n",
       "8      1500\n",
       "12     1369\n",
       "Name: count_nos, dtype: int64"
      ]
     },
     "execution_count": 21,
     "metadata": {},
     "output_type": "execute_result"
    }
   ],
   "source": [
    "min_freq_plot=tf_matrix_1.count_nos.value_counts().sort_values(ascending=False)\n",
    "min_freq_plot[0:10]"
   ]
  },
  {
   "cell_type": "code",
   "execution_count": 22,
   "metadata": {},
   "outputs": [
    {
     "data": {
      "text/html": [
       "<div>\n",
       "<style>\n",
       "    .dataframe thead tr:only-child th {\n",
       "        text-align: right;\n",
       "    }\n",
       "\n",
       "    .dataframe thead th {\n",
       "        text-align: left;\n",
       "    }\n",
       "\n",
       "    .dataframe tbody tr th {\n",
       "        vertical-align: top;\n",
       "    }\n",
       "</style>\n",
       "<table border=\"1\" class=\"dataframe\">\n",
       "  <thead>\n",
       "    <tr style=\"text-align: right;\">\n",
       "      <th></th>\n",
       "      <th>token</th>\n",
       "      <th>count_nos</th>\n",
       "    </tr>\n",
       "  </thead>\n",
       "  <tbody>\n",
       "    <tr>\n",
       "      <th>69018</th>\n",
       "      <td>\"</td>\n",
       "      <td>63474</td>\n",
       "    </tr>\n",
       "    <tr>\n",
       "      <th>41760</th>\n",
       "      <td>movie</td>\n",
       "      <td>42908</td>\n",
       "    </tr>\n",
       "    <tr>\n",
       "      <th>93017</th>\n",
       "      <td>film</td>\n",
       "      <td>40394</td>\n",
       "    </tr>\n",
       "    <tr>\n",
       "      <th>57707</th>\n",
       "      <td>one</td>\n",
       "      <td>22054</td>\n",
       "    </tr>\n",
       "    <tr>\n",
       "      <th>74281</th>\n",
       "      <td>just</td>\n",
       "      <td>15948</td>\n",
       "    </tr>\n",
       "    <tr>\n",
       "      <th>110319</th>\n",
       "      <td>!</td>\n",
       "      <td>15576</td>\n",
       "    </tr>\n",
       "    <tr>\n",
       "      <th>10241</th>\n",
       "      <td>like</td>\n",
       "      <td>14562</td>\n",
       "    </tr>\n",
       "    <tr>\n",
       "      <th>91156</th>\n",
       "      <td>?</td>\n",
       "      <td>12479</td>\n",
       "    </tr>\n",
       "    <tr>\n",
       "      <th>35837</th>\n",
       "      <td>character</td>\n",
       "      <td>10396</td>\n",
       "    </tr>\n",
       "    <tr>\n",
       "      <th>49389</th>\n",
       "      <td>even</td>\n",
       "      <td>10373</td>\n",
       "    </tr>\n",
       "    <tr>\n",
       "      <th>12546</th>\n",
       "      <td>story</td>\n",
       "      <td>9979</td>\n",
       "    </tr>\n",
       "    <tr>\n",
       "      <th>107679</th>\n",
       "      <td>good</td>\n",
       "      <td>9940</td>\n",
       "    </tr>\n",
       "    <tr>\n",
       "      <th>81226</th>\n",
       "      <td>-</td>\n",
       "      <td>9617</td>\n",
       "    </tr>\n",
       "    <tr>\n",
       "      <th>43123</th>\n",
       "      <td>time</td>\n",
       "      <td>9570</td>\n",
       "    </tr>\n",
       "    <tr>\n",
       "      <th>102290</th>\n",
       "      <td>make</td>\n",
       "      <td>8980</td>\n",
       "    </tr>\n",
       "  </tbody>\n",
       "</table>\n",
       "</div>"
      ],
      "text/plain": [
       "            token  count_nos\n",
       "69018           \"      63474\n",
       "41760       movie      42908\n",
       "93017        film      40394\n",
       "57707         one      22054\n",
       "74281        just      15948\n",
       "110319          !      15576\n",
       "10241        like      14562\n",
       "91156           ?      12479\n",
       "35837   character      10396\n",
       "49389        even      10373\n",
       "12546       story       9979\n",
       "107679       good       9940\n",
       "81226           -       9617\n",
       "43123        time       9570\n",
       "102290       make       8980"
      ]
     },
     "execution_count": 22,
     "metadata": {},
     "output_type": "execute_result"
    }
   ],
   "source": [
    "freq_word=tf_matrix_1.sort_values(by='count_nos',ascending=False)\n",
    "freq_word.head(15)"
   ]
  },
  {
   "cell_type": "code",
   "execution_count": 23,
   "metadata": {
    "collapsed": true
   },
   "outputs": [],
   "source": [
    "texts_2 = [[token for token in text if tf_matrix[token] > 10 and tf_matrix[token]<22000] for text in texts_1]"
   ]
  },
  {
   "cell_type": "code",
   "execution_count": 24,
   "metadata": {
    "collapsed": true
   },
   "outputs": [],
   "source": [
    "tf_matrix_2 = defaultdict(int)\n",
    "\n",
    "## token count in corpus\n",
    "for text in texts_2:\n",
    "     for token in text:\n",
    "         tf_matrix_2[token] += 1"
   ]
  },
  {
   "cell_type": "code",
   "execution_count": 25,
   "metadata": {},
   "outputs": [
    {
     "name": "stdout",
     "output_type": "stream",
     "text": [
      "(24835, 2)\n"
     ]
    }
   ],
   "source": [
    "tf_matrix_2=pd.DataFrame(list(tf_matrix_2.items()), columns=['token', 'count_nos'])\n",
    "print(tf_matrix_2.shape)"
   ]
  },
  {
   "cell_type": "code",
   "execution_count": 26,
   "metadata": {},
   "outputs": [
    {
     "data": {
      "text/html": [
       "<div>\n",
       "<style>\n",
       "    .dataframe thead tr:only-child th {\n",
       "        text-align: right;\n",
       "    }\n",
       "\n",
       "    .dataframe thead th {\n",
       "        text-align: left;\n",
       "    }\n",
       "\n",
       "    .dataframe tbody tr th {\n",
       "        vertical-align: top;\n",
       "    }\n",
       "</style>\n",
       "<table border=\"1\" class=\"dataframe\">\n",
       "  <thead>\n",
       "    <tr style=\"text-align: right;\">\n",
       "      <th></th>\n",
       "      <th>token</th>\n",
       "      <th>count_nos</th>\n",
       "    </tr>\n",
       "  </thead>\n",
       "  <tbody>\n",
       "    <tr>\n",
       "      <th>0</th>\n",
       "      <td>waiting_something</td>\n",
       "      <td>13</td>\n",
       "    </tr>\n",
       "    <tr>\n",
       "      <th>1</th>\n",
       "      <td>sonja</td>\n",
       "      <td>13</td>\n",
       "    </tr>\n",
       "    <tr>\n",
       "      <th>2</th>\n",
       "      <td>bottom_list</td>\n",
       "      <td>12</td>\n",
       "    </tr>\n",
       "    <tr>\n",
       "      <th>3</th>\n",
       "      <td>burgade</td>\n",
       "      <td>18</td>\n",
       "    </tr>\n",
       "    <tr>\n",
       "      <th>4</th>\n",
       "      <td>hanging</td>\n",
       "      <td>179</td>\n",
       "    </tr>\n",
       "    <tr>\n",
       "      <th>5</th>\n",
       "      <td>woody</td>\n",
       "      <td>76</td>\n",
       "    </tr>\n",
       "    <tr>\n",
       "      <th>6</th>\n",
       "      <td>early_role</td>\n",
       "      <td>19</td>\n",
       "    </tr>\n",
       "    <tr>\n",
       "      <th>7</th>\n",
       "      <td>comically</td>\n",
       "      <td>24</td>\n",
       "    </tr>\n",
       "    <tr>\n",
       "      <th>8</th>\n",
       "      <td>chatter</td>\n",
       "      <td>15</td>\n",
       "    </tr>\n",
       "    <tr>\n",
       "      <th>9</th>\n",
       "      <td>give_solid_performance</td>\n",
       "      <td>12</td>\n",
       "    </tr>\n",
       "    <tr>\n",
       "      <th>10</th>\n",
       "      <td>originality</td>\n",
       "      <td>155</td>\n",
       "    </tr>\n",
       "    <tr>\n",
       "      <th>11</th>\n",
       "      <td>unnecessarily</td>\n",
       "      <td>44</td>\n",
       "    </tr>\n",
       "    <tr>\n",
       "      <th>12</th>\n",
       "      <td>hermann</td>\n",
       "      <td>23</td>\n",
       "    </tr>\n",
       "    <tr>\n",
       "      <th>13</th>\n",
       "      <td>giant_monster</td>\n",
       "      <td>12</td>\n",
       "    </tr>\n",
       "    <tr>\n",
       "      <th>14</th>\n",
       "      <td>mr_freeze</td>\n",
       "      <td>17</td>\n",
       "    </tr>\n",
       "  </tbody>\n",
       "</table>\n",
       "</div>"
      ],
      "text/plain": [
       "                     token  count_nos\n",
       "0        waiting_something         13\n",
       "1                    sonja         13\n",
       "2              bottom_list         12\n",
       "3                  burgade         18\n",
       "4                  hanging        179\n",
       "5                    woody         76\n",
       "6               early_role         19\n",
       "7                comically         24\n",
       "8                  chatter         15\n",
       "9   give_solid_performance         12\n",
       "10             originality        155\n",
       "11           unnecessarily         44\n",
       "12                 hermann         23\n",
       "13           giant_monster         12\n",
       "14               mr_freeze         17"
      ]
     },
     "execution_count": 26,
     "metadata": {},
     "output_type": "execute_result"
    }
   ],
   "source": [
    "tf_matrix_2.head(15)"
   ]
  },
  {
   "cell_type": "code",
   "execution_count": 27,
   "metadata": {
    "collapsed": true
   },
   "outputs": [],
   "source": [
    "min_word_len= [[token for token in doc if len(token)<=2]for doc in texts_2]\n",
    "tf_matrix_3 = defaultdict(int)"
   ]
  },
  {
   "cell_type": "code",
   "execution_count": 28,
   "metadata": {},
   "outputs": [
    {
     "name": "stdout",
     "output_type": "stream",
     "text": [
      "(205, 2)\n"
     ]
    }
   ],
   "source": [
    "## token count in corpus\n",
    "for text in min_word_len:\n",
    "     for token in text:\n",
    "         tf_matrix_3[token] += 1\n",
    "tf_matrix_3=pd.DataFrame(list(tf_matrix_3.items()), columns=['token', 'count_nos'])\n",
    "tf_matrix_3=tf_matrix_3.sort_values(by='count_nos',ascending=False)\n",
    "print(tf_matrix_3.shape)"
   ]
  },
  {
   "cell_type": "code",
   "execution_count": 29,
   "metadata": {
    "collapsed": true
   },
   "outputs": [],
   "source": [
    "two_len_word=['!','?','go','tv','ok','oh','hr','ah']\n",
    "texts_3= [[token for token in doc if len(token)>2 or token in two_len_word]for doc in texts_2]"
   ]
  },
  {
   "cell_type": "code",
   "execution_count": 30,
   "metadata": {},
   "outputs": [
    {
     "name": "stdout",
     "output_type": "stream",
     "text": [
      "(24638, 2)\n"
     ]
    }
   ],
   "source": [
    "tf_matrix_4 = defaultdict(int)\n",
    "\n",
    "## token count in corpus\n",
    "for text in texts_3:\n",
    "     for token in text:\n",
    "         tf_matrix_4[token] += 1\n",
    "tf_matrix_4=pd.DataFrame(list(tf_matrix_4.items()), columns=['token', 'count_nos'])\n",
    "print(tf_matrix_4.shape)"
   ]
  },
  {
   "cell_type": "code",
   "execution_count": 31,
   "metadata": {
    "collapsed": true
   },
   "outputs": [],
   "source": [
    "dictionary = corpora.Dictionary(texts_3)\n",
    "corpus = [dictionary.doc2bow(text) for text in texts_3]\n",
    "tfidf=models.TfidfModel(corpus)\n",
    "corpus_tfidf = tfidf[corpus]"
   ]
  },
  {
   "cell_type": "code",
   "execution_count": 32,
   "metadata": {
    "collapsed": true
   },
   "outputs": [],
   "source": [
    "from gensim.matutils import corpus2csc\n",
    "from scipy.sparse import csc_matrix"
   ]
  },
  {
   "cell_type": "code",
   "execution_count": 33,
   "metadata": {
    "collapsed": true
   },
   "outputs": [],
   "source": [
    "scipy_csc_matrix = corpus2csc(corpus_tfidf)\n",
    "full_matrix = csc_matrix(scipy_csc_matrix)\n",
    "full_matrix.shape\n",
    "DTM=full_matrix.T"
   ]
  },
  {
   "cell_type": "code",
   "execution_count": 34,
   "metadata": {},
   "outputs": [
    {
     "data": {
      "text/plain": [
       "u'program'"
      ]
     },
     "execution_count": 34,
     "metadata": {},
     "output_type": "execute_result"
    }
   ],
   "source": [
    "dictionary[0]"
   ]
  },
  {
   "cell_type": "code",
   "execution_count": 35,
   "metadata": {
    "collapsed": true
   },
   "outputs": [],
   "source": [
    "token_mapping=pd.DataFrame.from_dict(dictionary.id2token,orient='index')\n",
    "token_mapping.columns=[\"Token\"]"
   ]
  },
  {
   "cell_type": "code",
   "execution_count": 36,
   "metadata": {
    "collapsed": true
   },
   "outputs": [],
   "source": [
    "y = np.concatenate((np.ones(len(pos_review)), np.zeros(len(neg_review))))"
   ]
  },
  {
   "cell_type": "code",
   "execution_count": 37,
   "metadata": {
    "collapsed": true
   },
   "outputs": [],
   "source": [
    "x_train, x_test, y_train, y_test = train_test_split(DTM, y, test_size=0.2)"
   ]
  },
  {
   "cell_type": "code",
   "execution_count": 38,
   "metadata": {
    "collapsed": true
   },
   "outputs": [],
   "source": [
    "model=SGDClassifier(loss='hinge', penalty='l2',max_iter=50,random_state =6)"
   ]
  },
  {
   "cell_type": "code",
   "execution_count": 39,
   "metadata": {
    "collapsed": true
   },
   "outputs": [],
   "source": [
    "_=model.fit(x_train,y_train)"
   ]
  },
  {
   "cell_type": "code",
   "execution_count": 40,
   "metadata": {
    "collapsed": true
   },
   "outputs": [],
   "source": [
    "train_pred=model.predict(x_train)"
   ]
  },
  {
   "cell_type": "code",
   "execution_count": 41,
   "metadata": {},
   "outputs": [
    {
     "data": {
      "text/plain": [
       "0.95209999999999995"
      ]
     },
     "execution_count": 41,
     "metadata": {},
     "output_type": "execute_result"
    }
   ],
   "source": [
    "accuracy_score(y_train,train_pred)"
   ]
  },
  {
   "cell_type": "code",
   "execution_count": 42,
   "metadata": {
    "collapsed": true
   },
   "outputs": [],
   "source": [
    "test_pred=model.predict(x_test)"
   ]
  },
  {
   "cell_type": "code",
   "execution_count": 43,
   "metadata": {},
   "outputs": [
    {
     "name": "stdout",
     "output_type": "stream",
     "text": [
      "Accuracy\n"
     ]
    },
    {
     "data": {
      "text/plain": [
       "0.90059999999999996"
      ]
     },
     "execution_count": 43,
     "metadata": {},
     "output_type": "execute_result"
    }
   ],
   "source": [
    "print(\"Accuracy\")\n",
    "accuracy_score(y_test,test_pred)"
   ]
  },
  {
   "cell_type": "code",
   "execution_count": 44,
   "metadata": {},
   "outputs": [
    {
     "data": {
      "image/png": "[encoded data removed]",
      "text/plain": [
       "<matplotlib.figure.Figure at 0x65a3bdd8>"
      ]
     },
     "metadata": {},
     "output_type": "display_data"
    }
   ],
   "source": [
    "##...ROC Curve\n",
    "\n",
    "fpr,tpr,_=roc_curve(y_test,test_pred)\n",
    "roc_auc = auc(fpr, tpr)\n",
    "plt.title('Receiver Operating Characteristic')\n",
    "plt.plot(fpr, tpr, 'b', label = 'AUC = %0.2f' % roc_auc)\n",
    "plt.legend(loc = 'lower right')\n",
    "plt.plot([0, 1], [0, 1],'r--')\n",
    "plt.xlim([0, 1])\n",
    "plt.ylim([0, 1])\n",
    "plt.ylabel('True Positive Rate')\n",
    "plt.xlabel('False Positive Rate')\n",
    "plt.show()"
   ]
  }
 ],
 "metadata": {
  "kernelspec": {
   "display_name": "Python 2",
   "language": "python",
   "name": "python2"
  },
  "language_info": {
   "codemirror_mode": {
    "name": "ipython",
    "version": 2
   },
   "file_extension": ".py",
   "mimetype": "text/x-python",
   "name": "python",
   "nbconvert_exporter": "python",
   "pygments_lexer": "ipython2",
   "version": "2.7.13"
  }
 },
 "nbformat": 4,
 "nbformat_minor": 2
}
